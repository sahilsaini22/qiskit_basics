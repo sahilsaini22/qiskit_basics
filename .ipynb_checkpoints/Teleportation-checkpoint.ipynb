{
 "cells": [
  {
   "cell_type": "code",
   "execution_count": 1,
   "id": "0bce849b",
   "metadata": {},
   "outputs": [],
   "source": [
    "from qiskit import *\n"
   ]
  },
  {
   "cell_type": "code",
   "execution_count": 2,
   "id": "81455f48",
   "metadata": {},
   "outputs": [],
   "source": [
    "circuit = QuantumCircuit(3,3)"
   ]
  },
  {
   "cell_type": "code",
   "execution_count": 3,
   "id": "fe498a60",
   "metadata": {},
   "outputs": [
    {
     "data": {
      "text/html": [
       "<pre style=\"word-wrap: normal;white-space: pre;background: #fff0;line-height: 1.1;font-family: &quot;Courier New&quot;,Courier,monospace\">     \n",
       "q_0: \n",
       "     \n",
       "q_1: \n",
       "     \n",
       "q_2: \n",
       "     \n",
       "c: 3/\n",
       "     </pre>"
      ],
      "text/plain": [
       "     \n",
       "q_0: \n",
       "     \n",
       "q_1: \n",
       "     \n",
       "q_2: \n",
       "     \n",
       "c: 3/\n",
       "     "
      ]
     },
     "execution_count": 3,
     "metadata": {},
     "output_type": "execute_result"
    }
   ],
   "source": [
    "%matplotlib inline\n",
    "\n",
    "circuit.draw()"
   ]
  },
  {
   "cell_type": "code",
   "execution_count": 4,
   "id": "6e61985e",
   "metadata": {},
   "outputs": [
    {
     "data": {
      "text/html": [
       "<pre style=\"word-wrap: normal;white-space: pre;background: #fff0;line-height: 1.1;font-family: &quot;Courier New&quot;,Courier,monospace\">     ┌───┐┌───┐ ░ \n",
       "q_0: ┤ X ├┤ X ├─░─\n",
       "     └───┘└───┘ ░ \n",
       "q_1: ───────────░─\n",
       "                ░ \n",
       "q_2: ───────────░─\n",
       "                ░ \n",
       "c: 3/═════════════\n",
       "                  </pre>"
      ],
      "text/plain": [
       "     ┌───┐┌───┐ ░ \n",
       "q_0: ┤ X ├┤ X ├─░─\n",
       "     └───┘└───┘ ░ \n",
       "q_1: ───────────░─\n",
       "                ░ \n",
       "q_2: ───────────░─\n",
       "                ░ \n",
       "c: 3/═════════════\n",
       "                  "
      ]
     },
     "execution_count": 4,
     "metadata": {},
     "output_type": "execute_result"
    }
   ],
   "source": [
    "circuit.x(0)\n",
    "circuit.barrier()\n",
    "circuit.draw()"
   ]
  },
  {
   "cell_type": "markdown",
   "id": "394adfeb",
   "metadata": {},
   "source": [
    "Here, the X gate operation will be effective after the barrier"
   ]
  },
  {
   "cell_type": "markdown",
   "id": "66e89061",
   "metadata": {},
   "source": [
    "Now, create entanglement between q_1 and q_2(hadamard gate on q1 and controlled-x gate between q1 and q2)"
   ]
  },
  {
   "cell_type": "code",
   "execution_count": 5,
   "id": "6e355227",
   "metadata": {},
   "outputs": [
    {
     "data": {
      "text/plain": [
       "<qiskit.circuit.instructionset.InstructionSet at 0x7f84923c8610>"
      ]
     },
     "execution_count": 5,
     "metadata": {},
     "output_type": "execute_result"
    }
   ],
   "source": [
    "circuit.h(1)\n",
    "circuit.cx(1,2)"
   ]
  },
  {
   "cell_type": "code",
   "execution_count": 6,
   "id": "2ce2a76c",
   "metadata": {},
   "outputs": [
    {
     "data": {
      "text/html": [
       "<pre style=\"word-wrap: normal;white-space: pre;background: #fff0;line-height: 1.1;font-family: &quot;Courier New&quot;,Courier,monospace\">     ┌───┐┌───┐ ░           \n",
       "q_0: ┤ X ├┤ X ├─░───────────\n",
       "     └───┘└───┘ ░ ┌───┐     \n",
       "q_1: ───────────░─┤ H ├──■──\n",
       "                ░ └───┘┌─┴─┐\n",
       "q_2: ───────────░──────┤ X ├\n",
       "                ░      └───┘\n",
       "c: 3/═══════════════════════\n",
       "                            </pre>"
      ],
      "text/plain": [
       "     ┌───┐┌───┐ ░           \n",
       "q_0: ┤ X ├┤ X ├─░───────────\n",
       "     └───┘└───┘ ░ ┌───┐     \n",
       "q_1: ───────────░─┤ H ├──■──\n",
       "                ░ └───┘┌─┴─┐\n",
       "q_2: ───────────░──────┤ X ├\n",
       "                ░      └───┘\n",
       "c: 3/═══════════════════════\n",
       "                            "
      ]
     },
     "execution_count": 6,
     "metadata": {},
     "output_type": "execute_result"
    }
   ],
   "source": [
    "circuit.draw()"
   ]
  },
  {
   "cell_type": "code",
   "execution_count": 7,
   "id": "8d96903e",
   "metadata": {},
   "outputs": [
    {
     "data": {
      "text/plain": [
       "<qiskit.circuit.instructionset.InstructionSet at 0x7f84923f6250>"
      ]
     },
     "execution_count": 7,
     "metadata": {},
     "output_type": "execute_result"
    }
   ],
   "source": [
    "circuit.cx(0,1)\n",
    "circuit.h(0)\n"
   ]
  },
  {
   "cell_type": "code",
   "execution_count": 8,
   "id": "536d2812",
   "metadata": {},
   "outputs": [
    {
     "data": {
      "text/html": [
       "<pre style=\"word-wrap: normal;white-space: pre;background: #fff0;line-height: 1.1;font-family: &quot;Courier New&quot;,Courier,monospace\">     ┌───┐┌───┐ ░                ┌───┐\n",
       "q_0: ┤ X ├┤ X ├─░─────────────■──┤ H ├\n",
       "     └───┘└───┘ ░ ┌───┐     ┌─┴─┐└───┘\n",
       "q_1: ───────────░─┤ H ├──■──┤ X ├─────\n",
       "                ░ └───┘┌─┴─┐└───┘     \n",
       "q_2: ───────────░──────┤ X ├──────────\n",
       "                ░      └───┘          \n",
       "c: 3/═════════════════════════════════\n",
       "                                      </pre>"
      ],
      "text/plain": [
       "     ┌───┐┌───┐ ░                ┌───┐\n",
       "q_0: ┤ X ├┤ X ├─░─────────────■──┤ H ├\n",
       "     └───┘└───┘ ░ ┌───┐     ┌─┴─┐└───┘\n",
       "q_1: ───────────░─┤ H ├──■──┤ X ├─────\n",
       "                ░ └───┘┌─┴─┐└───┘     \n",
       "q_2: ───────────░──────┤ X ├──────────\n",
       "                ░      └───┘          \n",
       "c: 3/═════════════════════════════════\n",
       "                                      "
      ]
     },
     "execution_count": 8,
     "metadata": {},
     "output_type": "execute_result"
    }
   ],
   "source": [
    "\n",
    "circuit.draw()"
   ]
  },
  {
   "cell_type": "code",
   "execution_count": 9,
   "id": "4f01cbb3",
   "metadata": {},
   "outputs": [
    {
     "data": {
      "text/html": [
       "<pre style=\"word-wrap: normal;white-space: pre;background: #fff0;line-height: 1.1;font-family: &quot;Courier New&quot;,Courier,monospace\">     ┌───┐┌───┐ ░                ┌───┐ ░ ┌─┐   \n",
       "q_0: ┤ X ├┤ X ├─░─────────────■──┤ H ├─░─┤M├───\n",
       "     └───┘└───┘ ░ ┌───┐     ┌─┴─┐└───┘ ░ └╥┘┌─┐\n",
       "q_1: ───────────░─┤ H ├──■──┤ X ├──────░──╫─┤M├\n",
       "                ░ └───┘┌─┴─┐└───┘      ░  ║ └╥┘\n",
       "q_2: ───────────░──────┤ X ├───────────░──╫──╫─\n",
       "                ░      └───┘           ░  ║  ║ \n",
       "c: 3/═════════════════════════════════════╩══╩═\n",
       "                                          0  1 </pre>"
      ],
      "text/plain": [
       "     ┌───┐┌───┐ ░                ┌───┐ ░ ┌─┐   \n",
       "q_0: ┤ X ├┤ X ├─░─────────────■──┤ H ├─░─┤M├───\n",
       "     └───┘└───┘ ░ ┌───┐     ┌─┴─┐└───┘ ░ └╥┘┌─┐\n",
       "q_1: ───────────░─┤ H ├──■──┤ X ├──────░──╫─┤M├\n",
       "                ░ └───┘┌─┴─┐└───┘      ░  ║ └╥┘\n",
       "q_2: ───────────░──────┤ X ├───────────░──╫──╫─\n",
       "                ░      └───┘           ░  ║  ║ \n",
       "c: 3/═════════════════════════════════════╩══╩═\n",
       "                                          0  1 "
      ]
     },
     "execution_count": 9,
     "metadata": {},
     "output_type": "execute_result"
    }
   ],
   "source": [
    "circuit.barrier()\n",
    "circuit.measure([0,1],[0,1])\n",
    "circuit.draw()"
   ]
  },
  {
   "cell_type": "code",
   "execution_count": 10,
   "id": "715d3339",
   "metadata": {},
   "outputs": [
    {
     "data": {
      "text/html": [
       "<pre style=\"word-wrap: normal;white-space: pre;background: #fff0;line-height: 1.1;font-family: &quot;Courier New&quot;,Courier,monospace\">     ┌───┐┌───┐ ░                ┌───┐ ░ ┌─┐    ░ \n",
       "q_0: ┤ X ├┤ X ├─░─────────────■──┤ H ├─░─┤M├────░─\n",
       "     └───┘└───┘ ░ ┌───┐     ┌─┴─┐└───┘ ░ └╥┘┌─┐ ░ \n",
       "q_1: ───────────░─┤ H ├──■──┤ X ├──────░──╫─┤M├─░─\n",
       "                ░ └───┘┌─┴─┐└───┘      ░  ║ └╥┘ ░ \n",
       "q_2: ───────────░──────┤ X ├───────────░──╫──╫──░─\n",
       "                ░      └───┘           ░  ║  ║  ░ \n",
       "c: 3/═════════════════════════════════════╩══╩════\n",
       "                                          0  1    </pre>"
      ],
      "text/plain": [
       "     ┌───┐┌───┐ ░                ┌───┐ ░ ┌─┐    ░ \n",
       "q_0: ┤ X ├┤ X ├─░─────────────■──┤ H ├─░─┤M├────░─\n",
       "     └───┘└───┘ ░ ┌───┐     ┌─┴─┐└───┘ ░ └╥┘┌─┐ ░ \n",
       "q_1: ───────────░─┤ H ├──■──┤ X ├──────░──╫─┤M├─░─\n",
       "                ░ └───┘┌─┴─┐└───┘      ░  ║ └╥┘ ░ \n",
       "q_2: ───────────░──────┤ X ├───────────░──╫──╫──░─\n",
       "                ░      └───┘           ░  ║  ║  ░ \n",
       "c: 3/═════════════════════════════════════╩══╩════\n",
       "                                          0  1    "
      ]
     },
     "execution_count": 10,
     "metadata": {},
     "output_type": "execute_result"
    }
   ],
   "source": [
    "circuit.barrier()\n",
    "circuit.draw()"
   ]
  },
  {
   "cell_type": "code",
   "execution_count": 11,
   "id": "48b420c4",
   "metadata": {},
   "outputs": [
    {
     "data": {
      "text/html": [
       "<pre style=\"word-wrap: normal;white-space: pre;background: #fff0;line-height: 1.1;font-family: &quot;Courier New&quot;,Courier,monospace\">     ┌───┐┌───┐ ░                ┌───┐ ░ ┌─┐    ░         \n",
       "q_0: ┤ X ├┤ X ├─░─────────────■──┤ H ├─░─┤M├────░───────■─\n",
       "     └───┘└───┘ ░ ┌───┐     ┌─┴─┐└───┘ ░ └╥┘┌─┐ ░       │ \n",
       "q_1: ───────────░─┤ H ├──■──┤ X ├──────░──╫─┤M├─░───■───┼─\n",
       "                ░ └───┘┌─┴─┐└───┘      ░  ║ └╥┘ ░ ┌─┴─┐ │ \n",
       "q_2: ───────────░──────┤ X ├───────────░──╫──╫──░─┤ X ├─■─\n",
       "                ░      └───┘           ░  ║  ║  ░ └───┘   \n",
       "c: 3/═════════════════════════════════════╩══╩════════════\n",
       "                                          0  1            </pre>"
      ],
      "text/plain": [
       "     ┌───┐┌───┐ ░                ┌───┐ ░ ┌─┐    ░         \n",
       "q_0: ┤ X ├┤ X ├─░─────────────■──┤ H ├─░─┤M├────░───────■─\n",
       "     └───┘└───┘ ░ ┌───┐     ┌─┴─┐└───┘ ░ └╥┘┌─┐ ░       │ \n",
       "q_1: ───────────░─┤ H ├──■──┤ X ├──────░──╫─┤M├─░───■───┼─\n",
       "                ░ └───┘┌─┴─┐└───┘      ░  ║ └╥┘ ░ ┌─┴─┐ │ \n",
       "q_2: ───────────░──────┤ X ├───────────░──╫──╫──░─┤ X ├─■─\n",
       "                ░      └───┘           ░  ║  ║  ░ └───┘   \n",
       "c: 3/═════════════════════════════════════╩══╩════════════\n",
       "                                          0  1            "
      ]
     },
     "execution_count": 11,
     "metadata": {},
     "output_type": "execute_result"
    }
   ],
   "source": [
    "circuit.cx(1,2)\n",
    "circuit.cz(0,2)\n",
    "circuit.draw()"
   ]
  },
  {
   "cell_type": "code",
   "execution_count": 12,
   "id": "66557e06",
   "metadata": {},
   "outputs": [],
   "source": [
    "simulator = Aer.get_backend('qasm_simulator')\n",
    "result = execute(circuit, backend = simulator, shots = 1024).result()"
   ]
  },
  {
   "cell_type": "code",
   "execution_count": 13,
   "id": "29fa4d3d",
   "metadata": {},
   "outputs": [],
   "source": [
    "counts = result.get_counts()"
   ]
  },
  {
   "cell_type": "code",
   "execution_count": 14,
   "id": "4eeb953c",
   "metadata": {},
   "outputs": [
    {
     "data": {
      "image/png": "[encoded data removed]",
      "text/plain": [
       "<Figure size 504x360 with 1 Axes>"
      ]
     },
     "execution_count": 14,
     "metadata": {},
     "output_type": "execute_result"
    }
   ],
   "source": [
    "from qiskit.tools.visualization import plot_histogram\n",
    "plot_histogram(counts)"
   ]
  },
  {
   "cell_type": "code",
   "execution_count": null,
   "id": "c0ff2a48",
   "metadata": {},
   "outputs": [],
   "source": []
  }
 ],
 "metadata": {
  "kernelspec": {
   "display_name": "Python 3",
   "language": "python",
   "name": "python3"
  },
  "language_info": {
   "codemirror_mode": {
    "name": "ipython",
    "version": 3
   },
   "file_extension": ".py",
   "mimetype": "text/x-python",
   "name": "python",
   "nbconvert_exporter": "python",
   "pygments_lexer": "ipython3",
   "version": "3.7.9"
  }
 },
 "nbformat": 4,
 "nbformat_minor": 5
}
