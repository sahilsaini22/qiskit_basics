{
 "cells": [
  {
   "cell_type": "code",
   "execution_count": null,
   "id": "7f06f4d7",
   "metadata": {},
   "outputs": [],
   "source": [
    "from qiskit import *"
   ]
  },
  {
   "cell_type": "code",
   "execution_count": null,
   "id": "3acda349",
   "metadata": {},
   "outputs": [],
   "source": [
    "#Define a curcuit with two quantum registers and 2 classical registers\n",
    "qr = QuantumRegister(2)\n",
    "cr = ClassicalRegister(2)\n",
    "circuit = QuantumCircuit(qr, cr)"
   ]
  },
  {
   "cell_type": "code",
   "execution_count": null,
   "id": "496d5e35",
   "metadata": {},
   "outputs": [],
   "source": [
    "#shortcut for the above definition\n",
    "#circuit = QuantumCircuit(2,2)"
   ]
  },
  {
   "cell_type": "code",
   "execution_count": null,
   "id": "e3479016",
   "metadata": {},
   "outputs": [],
   "source": [
    "#draw the circle\n",
    "circuit.draw()"
   ]
  },
  {
   "cell_type": "code",
   "execution_count": null,
   "id": "9da99485",
   "metadata": {},
   "outputs": [],
   "source": [
    "#apply hadamard gate on the first qubit\n",
    "circuit.h(qr[0])\n"
   ]
  },
  {
   "cell_type": "code",
   "execution_count": null,
   "id": "b679aca3",
   "metadata": {},
   "outputs": [],
   "source": [
    "circuit.draw()"
   ]
  },
  {
   "cell_type": "code",
   "execution_count": null,
   "id": "09365c7a",
   "metadata": {},
   "outputs": [],
   "source": [
    "#controlled X operation from first qubit to the second\n",
    "#The controlled-not gate flips the target qubit when the control qubit is in the state ∣1>\n",
    "\n",
    "circuit.cx(qr[0],qr[1])"
   ]
  },
  {
   "cell_type": "code",
   "execution_count": null,
   "id": "22495674",
   "metadata": {},
   "outputs": [],
   "source": [
    "circuit.draw()"
   ]
  },
  {
   "cell_type": "code",
   "execution_count": null,
   "id": "925d698f",
   "metadata": {},
   "outputs": [],
   "source": [
    "#measure the qubits by passing them to the classical registers\n",
    "circuit.measure(qr, cr)"
   ]
  },
  {
   "cell_type": "code",
   "execution_count": null,
   "id": "b1a3f025",
   "metadata": {},
   "outputs": [],
   "source": [
    "circuit.draw()"
   ]
  },
  {
   "cell_type": "code",
   "execution_count": null,
   "id": "e4b6f4d3",
   "metadata": {},
   "outputs": [],
   "source": [
    "#simulate the quantum circuit locally\n",
    "#Importing simulator\n",
    "simulator = Aer.get_backend('qasm_simulator')"
   ]
  },
  {
   "cell_type": "code",
   "execution_count": null,
   "id": "a7f0c0c0",
   "metadata": {},
   "outputs": [],
   "source": [
    "#execute the circuit on the imported simulator\n",
    "#execute(circuit, backend = simulator)\n",
    "result = execute(circuit, backend = simulator, shots = 1024).result()"
   ]
  },
  {
   "cell_type": "code",
   "execution_count": null,
   "id": "cea0fa2f",
   "metadata": {},
   "outputs": [],
   "source": [
    "#Visualize result\n",
    "from qiskit.tools.visualization import plot_histogram\n",
    "plot_histogram(result.get_counts(circuit))"
   ]
  },
  {
   "cell_type": "code",
   "execution_count": null,
   "id": "ccc71780",
   "metadata": {},
   "outputs": [],
   "source": [
    "#Running the circuit on IBM quantum computer"
   ]
  },
  {
   "cell_type": "code",
   "execution_count": null,
   "id": "ff3049a8",
   "metadata": {},
   "outputs": [],
   "source": [
    "#Load IBM account\n",
    "#IBMQ.save_account('token_id_here')  --this step is required only once\n",
    "IBMQ.load_account()"
   ]
  },
  {
   "cell_type": "code",
   "execution_count": null,
   "id": "6e647d6f",
   "metadata": {},
   "outputs": [],
   "source": [
    "#select the provider \n",
    "provider = IBMQ.get_provider(hub = 'ibm-q')"
   ]
  },
  {
   "cell_type": "code",
   "execution_count": null,
   "id": "8a4350e0",
   "metadata": {},
   "outputs": [],
   "source": [
    "#select the optimum quantum computer to run our code on\n",
    "\n",
    "num_qubits = 2\n",
    "\n",
    "from qiskit.providers.ibmq import least_busy\n",
    "possible_devices = provider.backends(filters=lambda x: \n",
    "                                     x.configuration().n_qubits >= num_qubits\n",
    "                                       and \n",
    "                                     x.configuration().simulator == False)\n",
    "qcomp = least_busy(possible_devices)\n",
    "print(qcomp)"
   ]
  },
  {
   "cell_type": "code",
   "execution_count": null,
   "id": "88fcad6a",
   "metadata": {},
   "outputs": [],
   "source": [
    "#select the quantum computer to run the circuit on\n",
    "qcomp = provider.get_backend('ibmq_belem')"
   ]
  },
  {
   "cell_type": "code",
   "execution_count": null,
   "id": "1cb7ddbc",
   "metadata": {},
   "outputs": [],
   "source": [
    "#Create a job\n",
    "job = execute(circuit, backend=qcomp)"
   ]
  },
  {
   "cell_type": "code",
   "execution_count": null,
   "id": "488da37d",
   "metadata": {},
   "outputs": [],
   "source": [
    "#check job status\n",
    "from qiskit.tools.monitor import job_monitor\n",
    "job_monitor(job)"
   ]
  },
  {
   "cell_type": "code",
   "execution_count": null,
   "id": "34b2af78",
   "metadata": {},
   "outputs": [],
   "source": [
    "#View results\n",
    "result = job.result()\n",
    "plot_histogram(result.get_counts(circuit))"
   ]
  },
  {
   "cell_type": "code",
   "execution_count": null,
   "id": "4f7efb4f",
   "metadata": {},
   "outputs": [],
   "source": []
  }
 ],
 "metadata": {
  "kernelspec": {
   "display_name": "Python 3",
   "language": "python",
   "name": "python3"
  },
  "language_info": {
   "codemirror_mode": {
    "name": "ipython",
    "version": 3
   },
   "file_extension": ".py",
   "mimetype": "text/x-python",
   "name": "python",
   "nbconvert_exporter": "python",
   "pygments_lexer": "ipython3",
   "version": "3.7.9"
  }
 },
 "nbformat": 4,
 "nbformat_minor": 5
}
