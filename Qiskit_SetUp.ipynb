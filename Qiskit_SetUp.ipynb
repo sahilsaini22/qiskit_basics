{
 "cells": [
  {
   "cell_type": "code",
   "execution_count": null,
   "id": "e713809a",
   "metadata": {},
   "outputs": [],
   "source": [
    "#install qiskit\n",
    "!pip install qiskit"
   ]
  },
  {
   "cell_type": "code",
   "execution_count": null,
   "id": "7d36204b",
   "metadata": {},
   "outputs": [],
   "source": [
    "from qiskit import *"
   ]
  },
  {
   "cell_type": "code",
   "execution_count": null,
   "id": "39840db3",
   "metadata": {},
   "outputs": [],
   "source": [
    "#Check qiskit version to validate installation\n",
    "qiskit.__qiskit_version__"
   ]
  },
  {
   "cell_type": "markdown",
   "id": "bbaa333c",
   "metadata": {},
   "source": [
    "Create an account on https://quantum-computing.ibm.com/\n",
    "This will enable us to access IBM's quantum computers\n",
    "After creaeting your account, you can find your API token, use the token in the next"
   ]
  },
  {
   "cell_type": "code",
   "execution_count": null,
   "id": "0d573706",
   "metadata": {},
   "outputs": [],
   "source": [
    "#save your account(this is a one-time step)\n",
    "IBMQ.save_account('token_id_here')"
   ]
  }
 ],
 "metadata": {
  "kernelspec": {
   "display_name": "Python 3",
   "language": "python",
   "name": "python3"
  },
  "language_info": {
   "codemirror_mode": {
    "name": "ipython",
    "version": 3
   },
   "file_extension": ".py",
   "mimetype": "text/x-python",
   "name": "python",
   "nbconvert_exporter": "python",
   "pygments_lexer": "ipython3",
   "version": "3.7.9"
  }
 },
 "nbformat": 4,
 "nbformat_minor": 5
}
